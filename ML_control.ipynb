{
  "nbformat": 4,
  "nbformat_minor": 0,
  "metadata": {
    "colab": {
      "provenance": [],
      "authorship_tag": "ABX9TyPL0Qq3vWmlLccblD5GCPo1",
      "include_colab_link": true
    },
    "kernelspec": {
      "name": "python3",
      "display_name": "Python 3"
    },
    "language_info": {
      "name": "python"
    }
  },
  "cells": [
    {
      "cell_type": "markdown",
      "metadata": {
        "id": "view-in-github",
        "colab_type": "text"
      },
      "source": [
        "<a href=\"https://colab.research.google.com/github/jumayev004/practice/blob/main/ML_control.ipynb\" target=\"_parent\"><img src=\"https://colab.research.google.com/assets/colab-badge.svg\" alt=\"Open In Colab\"/></a>"
      ]
    },
    {
      "cell_type": "code",
      "execution_count": 10,
      "metadata": {
        "colab": {
          "base_uri": "https://localhost:8080/"
        },
        "id": "kmfk3t_iJ6z-",
        "outputId": "30bec121-ff1a-4f16-bf11-1df9e1697bed"
      },
      "outputs": [
        {
          "output_type": "stream",
          "name": "stderr",
          "text": [
            "/usr/local/lib/python3.10/dist-packages/sklearn/datasets/_openml.py:968: FutureWarning: The default value of `parser` will change from `'liac-arff'` to `'auto'` in 1.4. You can set `parser='auto'` to silence this warning. Therefore, an `ImportError` will be raised from 1.4 if the dataset is dense and pandas is not installed. Note that the pandas parser may return different data types. See the Notes Section in fetch_openml's API doc for details.\n",
            "  warn(\n"
          ]
        },
        {
          "output_type": "stream",
          "name": "stdout",
          "text": [
            "**Author**: Dr. Hans Hofmann  \n",
            "**Source**: [UCI](https://archive.ics.uci.edu/ml/datasets/statlog+(german+credit+data)) - 1994    \n",
            "**Please cite**: [UCI](https://archive.ics.uci.edu/ml/citation_policy.html)\n",
            "\n",
            "**German Credit dataset**  \n",
            "This dataset classifies people described by a set of attributes as good or bad credit risks.\n",
            "\n",
            "This dataset comes with a cost matrix: \n",
            "``` \n",
            "Good  Bad (predicted)  \n",
            "Good   0    1   (actual)  \n",
            "Bad    5    0  \n",
            "```\n",
            "\n",
            "It is worse to class a customer as good when they are bad (5), than it is to class a customer as bad when they are good (1).  \n",
            "\n",
            "### Attribute description  \n",
            "\n",
            "1. Status of existing checking account, in Deutsche Mark.  \n",
            "2. Duration in months  \n",
            "3. Credit history (credits taken, paid back duly, delays, critical accounts)  \n",
            "4. Purpose of the credit (car, television,...)  \n",
            "5. Credit amount  \n",
            "6. Status of savings account/bonds, in Deutsche Mark.  \n",
            "7. Present employment, in number of years.  \n",
            "8. Installment rate in percentage of disposable income  \n",
            "9. Personal status (married, single,...) and sex  \n",
            "10. Other debtors / guarantors  \n",
            "11. Present residence since X years  \n",
            "12. Property (e.g. real estate)  \n",
            "13. Age in years  \n",
            "14. Other installment plans (banks, stores)  \n",
            "15. Housing (rent, own,...)  \n",
            "16. Number of existing credits at this bank  \n",
            "17. Job  \n",
            "18. Number of people being liable to provide maintenance for  \n",
            "19. Telephone (yes,no)  \n",
            "20. Foreign worker (yes,no)\n",
            "\n",
            "Downloaded from openml.org.\n"
          ]
        }
      ],
      "source": [
        "# Импортируем необходимые библиотеки\n",
        "import numpy as np\n",
        "import pandas as pd\n",
        "import matplotlib.pyplot as plt\n",
        "from sklearn.datasets import fetch_openml\n",
        "from sklearn.linear_model import LinearRegression\n",
        "from sklearn.metrics import r2_score, mean_squared_error\n",
        "\n",
        "# Шаг 1: Загрузка датасета\n",
        "dataset = fetch_openml(data_id=\"31\", as_frame=True)\n",
        "print(dataset.DESCR)\n",
        "\n",
        "# Определяем целевую переменную и признаки\n",
        "X = dataset.data\n",
        "y = dataset.target"
      ]
    },
    {
      "cell_type": "code",
      "source": [
        "import pandas as pd\n",
        "\n",
        "# Создайте DataFrame для анализа данных\n",
        "data = pd.DataFrame(X)\n",
        "\n",
        "# Вывод числа строк и столбцов в данных\n",
        "num_rows, num_columns = data.shape\n",
        "print(f\"Число строк (объектов): {num_rows}\")\n",
        "print(f\"Число столбцов (признаков): {num_columns}\")\n",
        "\n",
        "# Вывод статистики по признакам\n",
        "data_description = data.describe()\n",
        "print(data_description)"
      ],
      "metadata": {
        "colab": {
          "base_uri": "https://localhost:8080/"
        },
        "id": "AnYVFZjhKQop",
        "outputId": "1dd9bd86-a62f-483a-ca20-e3fc6a7e7b5b"
      },
      "execution_count": 11,
      "outputs": [
        {
          "output_type": "stream",
          "name": "stdout",
          "text": [
            "Число строк (объектов): 1000\n",
            "Число столбцов (признаков): 20\n",
            "          duration  credit_amount  installment_commitment  residence_since  \\\n",
            "count  1000.000000    1000.000000             1000.000000      1000.000000   \n",
            "mean     20.903000    3271.258000                2.973000         2.845000   \n",
            "std      12.058814    2822.736876                1.118715         1.103718   \n",
            "min       4.000000     250.000000                1.000000         1.000000   \n",
            "25%      12.000000    1365.500000                2.000000         2.000000   \n",
            "50%      18.000000    2319.500000                3.000000         3.000000   \n",
            "75%      24.000000    3972.250000                4.000000         4.000000   \n",
            "max      72.000000   18424.000000                4.000000         4.000000   \n",
            "\n",
            "               age  existing_credits  num_dependents  \n",
            "count  1000.000000       1000.000000     1000.000000  \n",
            "mean     35.546000          1.407000        1.155000  \n",
            "std      11.375469          0.577654        0.362086  \n",
            "min      19.000000          1.000000        1.000000  \n",
            "25%      27.000000          1.000000        1.000000  \n",
            "50%      33.000000          1.000000        1.000000  \n",
            "75%      42.000000          2.000000        1.000000  \n",
            "max      75.000000          4.000000        2.000000  \n"
          ]
        }
      ]
    },
    {
      "cell_type": "code",
      "source": [
        "# 3\n",
        "# Вывод типов данных каждого признака\n",
        "data_types = data.dtypes\n",
        "print(\"Типы данных признаков:\")\n",
        "print(data_types)\n",
        "\n",
        "# Проверка и удаление нечисловых колонок\n",
        "non_numeric_columns = data.select_dtypes(exclude=['number']).columns\n",
        "if not non_numeric_columns.empty:\n",
        "    data = data.drop(columns=non_numeric_columns)\n",
        "    print(\"Удалены нечисловые колонки.\")\n",
        "\n",
        "# Тип данных целевой переменной\n",
        "y_data_type = y.dtypes\n",
        "print(f\"Тип данных целевой переменной: {y_data_type}\")"
      ],
      "metadata": {
        "colab": {
          "base_uri": "https://localhost:8080/"
        },
        "id": "KJzGYWBjKe1Z",
        "outputId": "5c0cdfff-da80-4bf4-f184-162f98a8b9cd"
      },
      "execution_count": 12,
      "outputs": [
        {
          "output_type": "stream",
          "name": "stdout",
          "text": [
            "Типы данных признаков:\n",
            "checking_status           category\n",
            "duration                   float64\n",
            "credit_history            category\n",
            "purpose                   category\n",
            "credit_amount              float64\n",
            "savings_status            category\n",
            "employment                category\n",
            "installment_commitment     float64\n",
            "personal_status           category\n",
            "other_parties             category\n",
            "residence_since            float64\n",
            "property_magnitude        category\n",
            "age                        float64\n",
            "other_payment_plans       category\n",
            "housing                   category\n",
            "existing_credits           float64\n",
            "job                       category\n",
            "num_dependents             float64\n",
            "own_telephone             category\n",
            "foreign_worker            category\n",
            "dtype: object\n",
            "Удалены нечисловые колонки.\n",
            "Тип данных целевой переменной: category\n"
          ]
        }
      ]
    },
    {
      "cell_type": "code",
      "source": [
        "# 4 Проверка наличия пропущенных значений в данных\n",
        "missing_data = data.isnull().sum()\n",
        "missing_target = y.isnull().sum()\n",
        "\n",
        "if missing_data.sum() == 0 and missing_target == 0:\n",
        "    print(\"Пропущенных значений в данных и целевой переменной нет.\")\n",
        "else:\n",
        "    print(\"Пропущенные значения в данных или целевой переменной обнаружены.\")\n",
        "\n",
        "    # Заполнение пропущенных значений медианными значениями\n",
        "    data = data.fillna(data.median())\n",
        "    y = y.fillna(y.median())\n",
        "    print(\"Пропущенные значения заполнены медианными значениями.\")\n",
        "\n",
        "# Проверка наличия пропущенных значений после заполнения\n",
        "missing_data = data.isnull().sum()\n",
        "missing_target = y.isnull().sum()\n",
        "\n",
        "if missing_data.sum() == 0 and missing_target == 0:\n",
        "    print(\"Больше пропущенных значений нет.\")\n",
        "else:\n",
        "    print(\"Пропущенные значения не были полностью заполнены.\")"
      ],
      "metadata": {
        "colab": {
          "base_uri": "https://localhost:8080/"
        },
        "id": "1Ctdp_1wKfqd",
        "outputId": "e79be90e-bc04-4dc0-ae88-f06ac40c5fa3"
      },
      "execution_count": 13,
      "outputs": [
        {
          "output_type": "stream",
          "name": "stdout",
          "text": [
            "Пропущенных значений в данных и целевой переменной нет.\n",
            "Больше пропущенных значений нет.\n"
          ]
        }
      ]
    },
    {
      "cell_type": "code",
      "source": [
        "# 5\n",
        "import matplotlib.pyplot as plt\n",
        "\n",
        "# Построение гистограммы целевой переменной\n",
        "plt.figure(figsize=(8, 6))\n",
        "plt.hist(y, bins=30, color='blue', alpha=0.7)\n",
        "plt.title(\"Гистограмма распределения целевой переменной\")\n",
        "plt.xlabel(\"Значения целевой переменной\")\n",
        "plt.ylabel(\"Частота\")\n",
        "plt.grid(True)\n",
        "plt.show()\n"
      ],
      "metadata": {
        "colab": {
          "base_uri": "https://localhost:8080/",
          "height": 564
        },
        "id": "tX9MP-8aKv7l",
        "outputId": "d3983737-4d89-450b-ead4-d8a6d507f408"
      },
      "execution_count": 14,
      "outputs": [
        {
          "output_type": "display_data",
          "data": {
            "text/plain": [
              "<Figure size 800x600 with 1 Axes>"
            ],
            "image/png": "[encoded data removed]"
          },
          "metadata": {}
        }
      ]
    },
    {
      "cell_type": "code",
      "source": [
        "# 6\n",
        "import numpy as np\n",
        "import matplotlib.pyplot as plt\n",
        "\n",
        "# Генерация случайных данных для примера\n",
        "np.random.seed(0)\n",
        "X = np.random.rand(100, 1)\n",
        "y = 2 * X + 1 + 0.1 * np.random.randn(100, 1)\n",
        "\n",
        "# Функция для вычисления среднеквадратичной ошибки (MSE)\n",
        "def mean_squared_error(y_true, y_pred):\n",
        "    return np.mean((y_true - y_pred) ** 2)\n",
        "\n",
        "# Инициализация параметров модели\n",
        "num_samples, num_features = X.shape\n",
        "weights = np.zeros((num_features, 1))\n",
        "bias = 0\n",
        "\n",
        "# Гиперпараметры модели\n",
        "learning_rate = 0.01\n",
        "num_iterations = 1000\n",
        "\n",
        "# Обучение модели линейной регрессии\n",
        "loss_history = []\n",
        "\n",
        "for i in range(num_iterations):\n",
        "    y_pred = np.dot(X, weights) + bias\n",
        "    dw = -(2 / num_samples) * np.dot(X.T, (y - y_pred))\n",
        "    db = -(2 / num_samples) * np.sum(y - y_pred)\n",
        "    weights -= learning_rate * dw\n",
        "    bias -= learning_rate * db\n",
        "    loss = mean_squared_error(y, y_pred)\n",
        "    loss_history.append(loss)\n",
        "\n",
        "# Получение уравнения гиперплоскости\n",
        "equation = f'y = {weights[0, 0]:.2f} * x + {bias:.2f}'\n",
        "\n",
        "print(f\"Уравнение гиперплоскости: {equation}\")\n",
        "\n",
        "# Построение графика обучения\n",
        "plt.figure(figsize=(8, 6))\n",
        "plt.plot(range(num_iterations), loss_history, marker='o', linestyle='-')\n",
        "plt.title('График обучения')\n",
        "plt.xlabel('Итерации')\n",
        "plt.ylabel('Среднеквадратичная ошибка')\n",
        "plt.grid(True)\n",
        "plt.show()\n"
      ],
      "metadata": {
        "colab": {
          "base_uri": "https://localhost:8080/",
          "height": 581
        },
        "id": "w3HP2O8wKtLK",
        "outputId": "a9a4876f-59b9-4176-c00e-8fb91db52b98"
      },
      "execution_count": 15,
      "outputs": [
        {
          "output_type": "stream",
          "name": "stdout",
          "text": [
            "Уравнение гиперплоскости: y = 1.69 * x + 1.18\n"
          ]
        },
        {
          "output_type": "display_data",
          "data": {
            "text/plain": [
              "<Figure size 800x600 with 1 Axes>"
            ],
            "image/png": "[encoded data removed]"
          },
          "metadata": {}
        }
      ]
    },
    {
      "cell_type": "code",
      "source": [
        "#7\n",
        "from sklearn.linear_model import LinearRegression\n",
        "\n",
        "# Создайте и обучите модель линейной регрессии\n",
        "model = LinearRegression()\n",
        "model.fit(X, y)\n",
        "\n",
        "# Получите коэффициенты и смещение модели\n",
        "coefficients = model.coef_\n",
        "intercept = model.intercept_\n",
        "\n",
        "# Выведите уравнение гиперплоскости\n",
        "equation_sklearn = f'y = {coefficients[0, 0]:.2f} * x + {intercept[0]:.2f}'\n",
        "\n",
        "print(f\"Уравнение гиперплоскости (sklearn): {equation_sklearn}\")\n"
      ],
      "metadata": {
        "colab": {
          "base_uri": "https://localhost:8080/"
        },
        "id": "pgg3tUqRK5Zn",
        "outputId": "90e914d7-5cb1-473d-d2a2-a5d888a6d60c"
      },
      "execution_count": 16,
      "outputs": [
        {
          "output_type": "stream",
          "name": "stdout",
          "text": [
            "Уравнение гиперплоскости (sklearn): y = 1.99 * x + 1.02\n"
          ]
        }
      ]
    },
    {
      "cell_type": "code",
      "source": [
        "# 8\n",
        "from sklearn.metrics import r2_score, mean_squared_error\n",
        "\n",
        "# предсказания с помощью обученной модели\n",
        "y_pred_sklearn_model = model.predict(X)\n",
        "\n",
        "# метрики для сравнения\n",
        "r2_sklearn_model = r2_score(y, y_pred_sklearn_model)\n",
        "mse_sklearn_model = mean_squared_error(y, y_pred_sklearn_model)\n",
        "\n",
        "print(f\"Модель (sklearn):\")\n",
        "print(f\"Коэффициент детерминации (R^2): {r2_sklearn_model}\")\n",
        "print(f\"Среднеквадратичная ошибка (MSE): {mse_sklearn_model}\")"
      ],
      "metadata": {
        "colab": {
          "base_uri": "https://localhost:8080/"
        },
        "id": "pkX1aT1MK90w",
        "outputId": "86b5ec46-4582-49f9-cc8c-4e00c10300b8"
      },
      "execution_count": 25,
      "outputs": [
        {
          "output_type": "stream",
          "name": "stdout",
          "text": [
            "Модель (sklearn):\n",
            "Коэффициент детерминации (R^2): 0.9708365512617749\n",
            "Среднеквадратичная ошибка (MSE): 0.009924386487246495\n"
          ]
        }
      ]
    }
  ]
}